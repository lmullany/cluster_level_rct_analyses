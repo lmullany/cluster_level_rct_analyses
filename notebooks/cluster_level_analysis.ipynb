{
 "cells": [
  {
   "cell_type": "markdown",
   "id": "cc67f9ae-c49d-4a78-a89c-37d02942b55c",
   "metadata": {},
   "source": [
    "# Demonstraton of cluster-level analysis using ENAT data and Stata\n",
    "<ul>\n",
    "    <li>Date: August 4th, 2024</li>\n",
    "    <li>Author: Luke C. Mullany, PhD MS MHS</li>\n",
    "</ul>\n",
    "\n",
    "In this document, we are going to demonstrate simple approaches to cluster level analyses of randomized control trials, using Stata. The data we will use for the demonstration come from the Enhancing Nutrition and Antenatal Infection Treatment (ENAT) study, a cluster-randomized community-based effectiveness study conducted in 12 rural health centres in Amhara, Ethiopia (<a href=\"https://bmjpaedsopen.bmj.com/content/6/1/e001327\">Lee AC et al, BMJ Paediatr Open. 2022 Jan;6(1):e001327. doi: 10.1136/bmjpo-2021-001327.)</a>\n"
   ]
  },
  {
   "cell_type": "markdown",
   "id": "40f1c31b-9a90-410e-a8b1-c6abdae9bffc",
   "metadata": {},
   "source": [
    "## Load the data\n",
    "We load the dataset `baby_level_cluster_rct_data.dta`"
   ]
  },
  {
   "cell_type": "code",
   "execution_count": null,
   "id": "d8d66b66-c20d-49f5-981e-c5a7fec30610",
   "metadata": {
    "tags": []
   },
   "outputs": [],
   "source": [
    "set more off\n",
    "clear all\n",
    "use \"../../source_data_for_git_notebooks/data/baby_level_cluster_rct_data.dta\"\n",
    "\n",
    "frame rename default main_data\n"
   ]
  },
  {
   "cell_type": "markdown",
   "id": "065d2d51-4963-4785-aad4-8d65fde38774",
   "metadata": {},
   "source": [
    "The data we will use for the demonstration is a subset of the data available in the ENAT study. Specifically, the frame `main data` is baby level information, and contains three different types of variables:\n",
    "\n",
    "<ul>\n",
    "    <li>Identfiers</li>\n",
    "    <ul>\n",
    "        <li><code>study_id</code>: this is a unique identifer for the baby</li>\n",
    "        <li><code>facility_trt</code>: this identifiers the cluster; in ENAT this is either<code> NON-ENP</code> or <code>ENP</code>.</li>\n",
    "        <li><code>cluster_label</code>: this is an identifier for the cluster name (i.e. the name of the facility)</li>\n",
    "    </ul>\n",
    "    <li>Outcomes</li>\n",
    "    <ul>\n",
    "        <li><code>livebirth</code>: binary outcome indicating if baby born alive or not</li>\n",
    "        <li><code>weight</code>: continuous outcome; weight of baby in grams</li>\n",
    "        <li><code>preterm</code>: binary outcome indicating if baby born preterm or not</li>\n",
    "        <li><code>gest_age</code>: continuous outcome gestational age at outcome</li>\n",
    "    </ul>\n",
    "    <li>Covariates</li>\n",
    "    <ul>\n",
    "        <li><code>mother_ht</code>: height of mother (cm)</li>\n",
    "        <li><code>mother_age</code>: age of mother</li>\n",
    "        <li><code>occupation</code>: occupation of mother/head of household</li>\n",
    "        <li><code>bmi</code>: continuous measure of mother's bmi</li>\n",
    "        <li><code>mother_parity</code>: parity of mother</li>\n",
    "        <li><code>education</code>: education of the mother</li>\n",
    "        <li><code>land_ownership</code>: land ownership status of the household</li>\n",
    "        <li><code>sex</code>: sex of baby/fetus</li>\n",
    "    </ul>\n",
    "</ul>\n",
    "    \n",
    "### The first first five rows of the data appear below\n",
    "            \n",
    "    "
   ]
  },
  {
   "cell_type": "code",
   "execution_count": null,
   "id": "4c8d2b2b-a128-44de-84e9-e8b7c32f79e7",
   "metadata": {
    "tags": []
   },
   "outputs": [],
   "source": [
    "%head"
   ]
  },
  {
   "cell_type": "markdown",
   "id": "48623aa0-ea73-4e9d-a4bd-887f1447a089",
   "metadata": {},
   "source": [
    "## Cluster-level Analysis\n",
    "\n",
    "In the ENAT study, clusters (not individual participants) were allocated to the nutrition intervention (or NOT). In this type of design, analyses at the individual level that do not account for this clustered-randomization will under-estimate the variance in the effect size, leading to a false sense of confidence in estimate of the effect size. There are many ways to account for the cluster-level randomization, and this accounting can be done either in individual analyses (through for example, random effects models or generalized estimating equations) or at the cluster level, using aggregate analyses.  This notebook focuses on the latter approach, which is commonly suggested when the number of clusters is small. "
   ]
  },
  {
   "cell_type": "markdown",
   "id": "89b775b9-2f6f-4dee-9d8d-e288f25d2e6c",
   "metadata": {},
   "source": [
    "## Simple cluster level analysis of a continous variable, without adjustment\n",
    "For this example, we will use the outcome `weight`.  Cluster level analysis is very simple in this instance. We simply gather the mean of the outcome variable in each cluster, and then do a t-test of the difference between the treatment groups. Below, we use the `collapse` command, and retain the cluster-level (i.e. facility) allocation. Note that we start by restricting to only those where `weight_met_time==1`"
   ]
  },
  {
   "cell_type": "code",
   "execution_count": null,
   "id": "59f95182-e685-401c-94b5-42033d4d632c",
   "metadata": {
    "tags": []
   },
   "outputs": [],
   "source": [
    "capture frame copy main_data cluster_level, replace\n",
    "capture frame change cluster_level\n",
    "\n",
    "collapse (mean) weight if weight_time_met==1, by(facility_trt cluster_label)"
   ]
  },
  {
   "cell_type": "code",
   "execution_count": null,
   "id": "a35b6677-fa53-4721-b2a4-5b633ba18d25",
   "metadata": {
    "tags": []
   },
   "outputs": [],
   "source": [
    "%head 12"
   ]
  },
  {
   "cell_type": "markdown",
   "id": "72c9fdaa-0f5f-40c0-8336-dc74bfd0f8da",
   "metadata": {},
   "source": [
    "Now that we have estimatd the cluster-specific mean weights, we can simply do a t-test of the six facilities assigned to `ENP` and the six assigned to `NON-ENP`"
   ]
  },
  {
   "cell_type": "code",
   "execution_count": null,
   "id": "581fda7d-3249-4920-930a-fa2f95659e3e",
   "metadata": {
    "tags": []
   },
   "outputs": [],
   "source": [
    "ttest weight, by(facility_trt) reverse"
   ]
  },
  {
   "cell_type": "markdown",
   "id": "9b09b5f4-a16f-43a3-9312-cd9be32e2f30",
   "metadata": {},
   "source": [
    "So we see that the mean weight of babies was 28.7 grams lower in the ENP cluster compared to the NON-ENP clusters, with a confidence interval extending from -101 grams to positive 44 grams. This is not that different than we might have obtained if we did a individual-level analysis, but accounted for the treatment group. Let's examine what we would obtain doing individual-level analysis, using GEE."
   ]
  },
  {
   "cell_type": "code",
   "execution_count": null,
   "id": "e3928223-3c3a-425d-a162-814f184b9497",
   "metadata": {
    "tags": []
   },
   "outputs": [],
   "source": [
    "frame main_data: xtgee weight facility_trt if weight_time_met==1, i(cluster_label) "
   ]
  },
  {
   "cell_type": "markdown",
   "id": "19c38452-b65c-43db-b971-5ed447591d65",
   "metadata": {
    "tags": []
   },
   "source": [
    "Note that the analysis at the individual level also results in a similar estimate and standard error. Above, we used GEE, but we could have obtained a similar result via a simple random effects model\n",
    "```stata\n",
    "xtreg weight facility_trt if weight_time_met==1, mle i(cluster_label)\n",
    "```\n",
    "\n",
    "Note that if we did not account for the clustering at all, our estimate of the difference would still similar, but the standard error would be substantially smaller (i.e. under-estimated). \n"
   ]
  },
  {
   "cell_type": "code",
   "execution_count": null,
   "id": "10c3e197-f3e7-4c11-91ac-5c65c57c7864",
   "metadata": {
    "tags": []
   },
   "outputs": [],
   "source": [
    "frame change main_data\n",
    "regress weight facility_trt if weight_time_met==1"
   ]
  },
  {
   "cell_type": "markdown",
   "id": "19401ebe-254d-4d37-9cfd-6866d35ebdfd",
   "metadata": {
    "tags": []
   },
   "source": [
    "## What if we need to adjust for individual-level covariates?\n",
    "This is also fairly straightforward. Instead of aggregating the mean of the outcome at each cluster, we instead first run a regression model at the individual level, ignoring the treatment group or allocation. We then estimate the mean of the residuals of this model for each cluster and do a t-test on those cluster level means."
   ]
  },
  {
   "cell_type": "code",
   "execution_count": null,
   "id": "389c8661-4235-431b-9053-01cea3044067",
   "metadata": {
    "tags": []
   },
   "outputs": [],
   "source": [
    "* 0. Refresh the frame where we do our collapsing with a copy of the main data\n",
    "frame copy main_data cluster_level, replace\n",
    "frame change cluster_level\n",
    "keep if weight_time_met==1\n",
    "* 1. First individual regression model with covariates that need adjustment\n",
    "quietly regress weight bmi mother_age occupation land_ownership\n",
    "* 2. Predict the residuals\n",
    "quietly predict resid, residuals\n",
    "* 3. get the mean of the residuals at the cluster level and do ttest\n",
    "collapse (mean) residuals = resid, by(facility_trt cluster_label)\n",
    "* 4. repeat same t-test from above\n",
    "ttest residuals, by(facility_trt) reverse\n"
   ]
  },
  {
   "cell_type": "markdown",
   "id": "8fb030a2-21b5-4932-a265-2629536c424e",
   "metadata": {
    "tags": []
   },
   "source": [
    "To convince yourself that this is actually an estimate of the treatment effect adjusted by those covariates, conduct the same steps, but don't adjust for anything, and see that this approach will give the same answer as our original approach above (i.e in the unadjusted case)\n",
    "\n"
   ]
  },
  {
   "cell_type": "code",
   "execution_count": null,
   "id": "73a46b5a-4ddb-495e-803d-42156fb20f85",
   "metadata": {
    "tags": []
   },
   "outputs": [],
   "source": [
    "* 0. Refresh the frame where we do our collapsing with a copy of the main data\n",
    "frame copy main_data cluster_level, replace\n",
    "frame change cluster_level\n",
    "keep if weight_time_met==1\n",
    "* 1. First individual regression model with covariates that need adjustment\n",
    "quietly regress weight\n",
    "* 2. Predict the residuals\n",
    "quietly predict resid, residuals\n",
    "* 3. get the mean of the residuals at the cluster level and do ttest\n",
    "collapse (mean) mean_weight = weight mean_residual = resid, by(facility_trt cluster_label)\n",
    "gen difference = mean_weight - mean_residual\n",
    "list\n",
    "* 4. repeat same t-test from above\n",
    "ttest mean_residual, by(facility_trt) reverse"
   ]
  },
  {
   "cell_type": "markdown",
   "id": "805fae6d-b72a-4c6b-b1a6-9b98606af2c7",
   "metadata": {},
   "source": [
    "<h2 style=\"color:red\">Why does this work (i.e. gives the exact answer as in above approach?</h2>\n",
    "Notice that the mean residuals of each cluster is simply a constant removed from the mean weight in the cluster. Since adding a constant can't change the t-test result, we get the same answer as above for the non-adjusted treatment effect. What <strong>is</strong> this constant difference between the cluster-level residual means and the mean weight? The constant is the overall mean in the population, which is what the unadjusted individual level model is estimating!.  \n",
    "<br></br>\n",
    "Therefore, when the individual-level model is estimating the adjusted weight in the population, a t-test of the difference in the cluster-specific means of those residuals gives and estimate of the adjusted treatment effect.\n",
    "<hr>"
   ]
  },
  {
   "cell_type": "markdown",
   "id": "6871ff8a-9c15-4e4d-9ea2-b7fef015f18d",
   "metadata": {},
   "source": [
    "## Binary outcomes\n",
    "\n",
    "What if our outcome is a binary variable, like preterm? Here, the approach is similar, but instead of examining the mean of the outcome, we examine the ratio of the observed to expected"
   ]
  },
  {
   "cell_type": "code",
   "execution_count": null,
   "id": "4387694a-2b42-4d17-80f8-c808bd74970e",
   "metadata": {
    "tags": []
   },
   "outputs": [],
   "source": [
    "* 0. Refresh the frame where we do our collapsing with a copy of the main data\n",
    "frame copy main_data cluster_level, replace\n",
    "frame change cluster_level\n",
    "keep if preterm!=."
   ]
  },
  {
   "cell_type": "code",
   "execution_count": null,
   "id": "0d412802-b2ec-4405-85fa-23bf16f759f2",
   "metadata": {
    "tags": []
   },
   "outputs": [],
   "source": [
    "collapse (mean) preterm, by(facility_trt cluster_label)\n",
    "list\n",
    "ttest preterm, by(facility_trt) reverse"
   ]
  },
  {
   "cell_type": "markdown",
   "id": "9cb8dd96-f51e-4950-a733-9231020bb40c",
   "metadata": {},
   "source": [
    "The estimate of relative risk here is just the ratio of the means of the cluster-level means"
   ]
  },
  {
   "cell_type": "code",
   "execution_count": null,
   "id": "ae4e0ac6-8e27-4438-a3ab-a8da865d5136",
   "metadata": {
    "tags": []
   },
   "outputs": [],
   "source": [
    "di r(mu_1)/r(mu_2)"
   ]
  },
  {
   "cell_type": "markdown",
   "id": "bd820432-62ea-43a8-8d8c-83b14d1a7712",
   "metadata": {
    "tags": []
   },
   "source": [
    "Notice that there is a residual-based approach to this as well, which we can later leverage to do cluster-level adjusted analyses for dichotomous outcomes, as we did above for continuous"
   ]
  },
  {
   "cell_type": "code",
   "execution_count": null,
   "id": "e609985c-b7a9-4823-9d2b-adc93fdb53b2",
   "metadata": {
    "tags": []
   },
   "outputs": [],
   "source": [
    "* 0. Refresh the frame where we do our collapsing with a copy of the main data\n",
    "frame copy main_data cluster_level, replace\n",
    "frame change cluster_level\n",
    "keep if preterm!=.\n",
    "* 1. estimate a logistic model of the outcome, without regard to cluster or treatment\n",
    "qui glm preterm, family(bin) link(log)\n",
    "* 2. Predict the observed and expected number of outcomes. \n",
    "* To do this, we predict the probability from the model, which of course is a constant over the\n",
    "* entire dataset in this case, since we didn't adjust for anything\n",
    "predict prob, xb\n",
    "replace prob = exp(prob)\n",
    "* The observed is just the sum of the observed preterm variable (because it is a zero-one outcome),\n",
    "* while the expected is the mean of the probabilities\n",
    "collapse (sum) expected = prob observed = preterm, by(facility_trt cluster_label)\n",
    "list"
   ]
  },
  {
   "cell_type": "markdown",
   "id": "311c491c-d7b4-445c-82aa-b6beca985981",
   "metadata": {
    "tags": []
   },
   "source": [
    "Now, we take the ratio of the observed over expected, and do a t-test on those ratios, and we will see we get the exact same estimate. Note that is an estimate of the relative risk. Observed preterm risk is about 20% lower in the ENP arm, but there is little statistical evidence that the true rate of preterm differs between the groups\n"
   ]
  },
  {
   "cell_type": "code",
   "execution_count": null,
   "id": "9fa5e12e-f967-4d46-aceb-8a5931872540",
   "metadata": {
    "tags": []
   },
   "outputs": [],
   "source": [
    "capture gen ratio = observed/expected\n",
    "qui ttest ratio, by(facility_trt) reverse\n",
    "di r(mu_1)/r(mu_2)"
   ]
  },
  {
   "cell_type": "markdown",
   "id": "9c55261b-d1be-4e19-a15c-d11540a7b9b0",
   "metadata": {},
   "source": [
    "## What about confidence intervals for the relative risk based on cluster-level summaries?\n",
    "Below is a small program that will return the estimate and the confidence interval. Note that is an ado file, and can be added temporarily or permanently to your path (see `help sysdir` or `help adopath` for more information). If you examine the code, you will see that it relies on values returned by Stata's built-in `ttest` command, and therefore can only be called immediately after `ttest`\n",
    "\n",
    "```stata\n",
    "capture program drop t_test_binary_ci\n",
    "\n",
    "program define t_test_binary_ci\n",
    "  syntax, [Level(real 95)]\n",
    "  * get the estimate of relative risk, which is the ratio of the means (of cluster-level means) in group 1 and\n",
    "  * the means (of cluster-level means) of group 2\n",
    "  scalar est =  r(mu_1)/r(mu_2)\n",
    " \n",
    "  * approx 95% CI:\n",
    "  * first get the variance (V) and use the t distribution, with appropriate degress of freedom\n",
    "  * to get a mulitiplicative risk factor\n",
    "  scalar V = r(sd_1)^2/(r(N_1)*r(mu_1)^2) + r(sd_2)^2/(r(N_2)*r(mu_2)^2)\n",
    "  local alpha = (100-`level')/100\n",
    "  scalar err_factor = exp(invt(r(df_t), `alpha'/2)*sqrt(V))\n",
    "\n",
    "  * get the lower bound as the estimate mutiplied by this factor, while the \n",
    "  * upper bound is the estimate divided by this factor\n",
    "  scalar lower = est*err_factor\n",
    "  scalar upper = est/err_factor\n",
    "\n",
    "  di \"{hline 40}\"\n",
    "  di \"Est\" _col(16) \"`level' %CI\"\n",
    "  di \"{hline 40}\"\n",
    "\n",
    "  di %4.3f est _col(14) \"( \" %4.3f lower \" - \" %4.3f upper \" )\"\n",
    "  di \"{hline 40}\"\n",
    "\n",
    "end\n",
    "```\n",
    "\n",
    "Here we add the location of this adofile to `adopath`\n"
   ]
  },
  {
   "cell_type": "code",
   "execution_count": null,
   "id": "25208833-ba79-43d0-8cbb-7b5607c372c3",
   "metadata": {
    "tags": []
   },
   "outputs": [],
   "source": [
    "capture program drop t_test_binary_ci\n",
    "capture adopath + \"../ado_files/\""
   ]
  },
  {
   "cell_type": "code",
   "execution_count": null,
   "id": "539f8429-0627-4308-a744-c995c5f6c312",
   "metadata": {
    "tags": []
   },
   "outputs": [],
   "source": [
    "qui ttest ratio, by(facility_trt) reverse\n",
    "t_test_binary_ci, level(99)"
   ]
  },
  {
   "cell_type": "markdown",
   "id": "955e8f88-d602-4389-abf9-227ed376a84e",
   "metadata": {
    "tags": []
   },
   "source": [
    "## Adjusting for covariates for binary outcomes. \n",
    "We follow a similar approach as before\n",
    "1. estimate an adjusted model with only the covariates of interest\n",
    "2. use the model to get an adjusted-expected number of outcomes per cluster\n",
    "3. get the ratio of observed over expected for each cluster\n",
    "4. do a t-test on these ratios, and obtain a CI using the above program"
   ]
  },
  {
   "cell_type": "code",
   "execution_count": null,
   "id": "ab18cb6a-6fd3-4d5f-847e-1509af694612",
   "metadata": {
    "tags": []
   },
   "outputs": [],
   "source": [
    "* 0. Refresh the frame where we do our collapsing with a copy of the main data\n",
    "\n",
    "frame copy main_data cluster_level, replace\n",
    "frame change cluster_level\n",
    "quietly {\n",
    "\n",
    "    * 1. First individual regression model with covariates that need adjustment\n",
    "    quietly glm preterm bmi mother_age occupation land_ownership, family(binomial) link(log)\n",
    "    * 2. Get preduction\n",
    "    predict prob if e(sample), xb\n",
    "    replace prob = exp(prob)\n",
    "    * The observed is just the sum of the observed preterm variable (because it is a zero-one outcome),\n",
    "    * while the expected is the mean of the probabilities\n",
    "    collapse (sum) expected = prob observed = preterm, by(facility_trt cluster_label)\n",
    "    **3. Create ratio and do t-tests\n",
    "    gen ratio = observed/expected\n",
    "    noi ttest ratio, by(facility_trt) reverse\n",
    "    \n",
    "}\n",
    "\n",
    "t_test_binary_ci\n"
   ]
  },
  {
   "cell_type": "code",
   "execution_count": null,
   "id": "949b1ecc-c715-422e-a8f6-fc94bac83559",
   "metadata": {},
   "outputs": [],
   "source": []
  }
 ],
 "metadata": {
  "kernelspec": {
   "display_name": "Stata (nbstata)",
   "language": "stata",
   "name": "nbstata"
  },
  "language_info": {
   "file_extension": ".do",
   "mimetype": "text/x-stata",
   "name": "stata",
   "version": "17"
  }
 },
 "nbformat": 4,
 "nbformat_minor": 5
}
